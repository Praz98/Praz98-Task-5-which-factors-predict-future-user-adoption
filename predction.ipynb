{
  "nbformat": 4,
  "nbformat_minor": 0,
  "metadata": {
    "colab": {
      "provenance": [],
      "authorship_tag": "ABX9TyMEUcc4FOsYLvVFVZy4TWTw",
      "include_colab_link": true
    },
    "kernelspec": {
      "name": "python3",
      "display_name": "Python 3"
    },
    "language_info": {
      "name": "python"
    }
  },
  "cells": [
    {
      "cell_type": "markdown",
      "metadata": {
        "id": "view-in-github",
        "colab_type": "text"
      },
      "source": [
        "<a href=\"https://colab.research.google.com/github/Praz98/Praz98-Task-5-which-factors-predict-future-user-adoption/blob/main/predction.ipynb\" target=\"_parent\"><img src=\"https://colab.research.google.com/assets/colab-badge.svg\" alt=\"Open In Colab\"/></a>"
      ]
    },
    {
      "cell_type": "code",
      "source": [
        "\n",
        "import python_script as script\n",
        "import pandas as pd\n",
        "from pandas import DataFrame, Series\n",
        "# Read in the data\n",
        "activity = pd.read_csv('/content/takehome_user_engagement (1).csv')\n",
        "users = pd.read_csv('/content/takehome_users.csv', encoding='latin-1')\n",
        "# Convert timestamp\n",
        "activity['time_stamp2'] = pd.to_datetime(activity['time_stamp'])\n",
        "# Only keep users who have logged at least 3 days\n",
        "repeated_users_df = script.keep_repeat_users(activity)\n",
        "# Split data by user_id\n",
        "grouped_users_df = repeated_users_df.groupby('user_id')\n",
        "# Apply function to see if logged 3 separate days in 7 day period\n",
        "unique_active_peeps_df = script.keep_active_users(grouped_users_df)\n",
        "# Create an indicator variable if they are an adopted user or not\n",
        "unique_active_peeps_df['adopted_user'] = 1\n",
        "# Merge adopted user dataframe with original dataframe\n",
        "adopted_user_info = pd.merge(unique_active_peeps_df, users, how='outer',\n",
        "                  left_on='user_id', right_on='object_id')\n",
        "# Fill non-adopted users in with 0\n",
        "adopted_user_info['adopted_user'] = adopted_user_info['adopted_user'].fillna(0)\n",
        "len(adopted_user_info)\n",
        "12000\n",
        "### Want to create a few additional variables regarding timing of account usage\n",
        "import numpy as np\n",
        "import time\n",
        "temp = adopted_user_info\n",
        "temp['creation_time_utc'] = pd.to_datetime(temp['creation_time'], utc=1)\n",
        "temp['creation_time_unix'] = temp['creation_time_utc'].astype(np.int64) // 10 ** 9\n",
        "# Time from account creation to last login\n",
        "temp['creation_delta'] = temp['last_session_creation_time'] - temp['creation_time_unix']\n",
        "# Time from account creation to today\n",
        "temp['lifespan_delta'] = int(time.time()) - temp['creation_time_unix']\n",
        "# Time from last login to today\n",
        "temp['last_login_delta'] = int(time.time()) - temp['last_session_creation_time']\n",
        "temp.to_csv('/content/adopted_users_extended.csv')"
      ],
      "metadata": {
        "id": "GHUCqZPYyvu_"
      },
      "execution_count": null,
      "outputs": []
    }
  ]
}